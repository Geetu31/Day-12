{
 "cells": [
  {
   "cell_type": "code",
   "execution_count": 1,
   "id": "2b0e2db3",
   "metadata": {},
   "outputs": [],
   "source": [
    "# Continuation to python classes"
   ]
  },
  {
   "cell_type": "code",
   "execution_count": 2,
   "id": "45c70bd8",
   "metadata": {},
   "outputs": [],
   "source": [
    "#introduction to constructors"
   ]
  },
  {
   "cell_type": "code",
   "execution_count": 4,
   "id": "0a74af07",
   "metadata": {},
   "outputs": [],
   "source": [
    "#It is called as specila method or magical method\n",
    "# It is used to initialize the attributes.\n",
    "#how to define constructor:\n",
    " #   def_init_()"
   ]
  },
  {
   "cell_type": "code",
   "execution_count": 5,
   "id": "341be219",
   "metadata": {},
   "outputs": [],
   "source": [
    "# Create a dog class with these methods:\n",
    "# Accept the input name and age of dog\n",
    "# jump:\n",
    "# rollover:\n",
    "# sleep:\n",
    "# details\n",
    "    "
   ]
  },
  {
   "cell_type": "code",
   "execution_count": 14,
   "id": "3f1ee8fc",
   "metadata": {},
   "outputs": [],
   "source": [
    "class Dog:\n",
    "    \"\"\"craeting a dog class\"\"\"\n",
    "    def __init__(self,name,age):\n",
    "        self.name = name\n",
    "        self.age = age\n",
    "    def jump(self):\n",
    "        print(f\"{self.name} is now jumping\")\n",
    "    def rollover(self):\n",
    "        print(f\"{self.name} is now rolling over the command\")\n",
    "    def eat(self):\n",
    "        print(f\"{self.name} is now eating\")\n",
    "    def sleep(self):\n",
    "        print(f\"{self.name} is now sleeping\")\n",
    "    def details(self):\n",
    "        print(f\"My dog's name is {self.name}\")\n",
    "        "
   ]
  },
  {
   "cell_type": "code",
   "execution_count": 15,
   "id": "f847d39e",
   "metadata": {},
   "outputs": [],
   "source": [
    "test = Dog(\"rex\",2)"
   ]
  },
  {
   "cell_type": "code",
   "execution_count": 16,
   "id": "b5088afd",
   "metadata": {},
   "outputs": [
    {
     "name": "stdout",
     "output_type": "stream",
     "text": [
      "rex is now jumping\n"
     ]
    }
   ],
   "source": [
    "test.jump()"
   ]
  },
  {
   "cell_type": "code",
   "execution_count": 13,
   "id": "6fa0c6aa",
   "metadata": {},
   "outputs": [
    {
     "name": "stdout",
     "output_type": "stream",
     "text": [
      "rex is now eating\n"
     ]
    }
   ],
   "source": [
    "test.eat()"
   ]
  },
  {
   "cell_type": "code",
   "execution_count": 17,
   "id": "6bee0fc9",
   "metadata": {},
   "outputs": [
    {
     "name": "stdout",
     "output_type": "stream",
     "text": [
      "My dog's name is rex\n"
     ]
    }
   ],
   "source": [
    "test.details()"
   ]
  },
  {
   "cell_type": "code",
   "execution_count": 18,
   "id": "037767d9",
   "metadata": {},
   "outputs": [
    {
     "name": "stdout",
     "output_type": "stream",
     "text": [
      "rex is now rolling over the command\n"
     ]
    }
   ],
   "source": [
    "test.rollover()"
   ]
  },
  {
   "cell_type": "code",
   "execution_count": 19,
   "id": "cb140822",
   "metadata": {},
   "outputs": [],
   "source": [
    "x = Dog(\"y\",5.1)"
   ]
  },
  {
   "cell_type": "code",
   "execution_count": 20,
   "id": "d356f7cd",
   "metadata": {},
   "outputs": [
    {
     "name": "stdout",
     "output_type": "stream",
     "text": [
      "y is now jumping\n"
     ]
    }
   ],
   "source": [
    "x.jump()"
   ]
  },
  {
   "cell_type": "code",
   "execution_count": null,
   "id": "9b7bbb10",
   "metadata": {},
   "outputs": [],
   "source": []
  }
 ],
 "metadata": {
  "kernelspec": {
   "display_name": "Python 3",
   "language": "python",
   "name": "python3"
  },
  "language_info": {
   "codemirror_mode": {
    "name": "ipython",
    "version": 3
   },
   "file_extension": ".py",
   "mimetype": "text/x-python",
   "name": "python",
   "nbconvert_exporter": "python",
   "pygments_lexer": "ipython3",
   "version": "3.6.13"
  }
 },
 "nbformat": 4,
 "nbformat_minor": 5
}
